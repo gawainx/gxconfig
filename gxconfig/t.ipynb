{
 "cells": [
  {
   "cell_type": "code",
   "execution_count": 3,
   "metadata": {
    "collapsed": true,
    "pycharm": {
     "is_executing": false
    }
   },
   "outputs": [],
   "source": [
    "from typing import NamedTuple\n",
    "class A(NamedTuple):\n",
    "    long:int = 10\n",
    "    model:int = 0\n",
    "    \n",
    "class B(NamedTuple):\n",
    "    sp:A = A()\n",
    "    yj:int = 10"
   ]
  },
  {
   "cell_type": "code",
   "execution_count": 2,
   "outputs": [
    {
     "name": "stdout",
     "text": [
      "A(long=999, model=19)\n"
     ],
     "output_type": "stream"
    }
   ],
   "source": [
    "d = dict()\n",
    "d['model'] = 19\n",
    "d['long'] = 999\n",
    "\n",
    "a = A()\n",
    "b = a.__class__(**d)\n",
    "print(b)\n"
   ],
   "metadata": {
    "collapsed": false,
    "pycharm": {
     "name": "#%%\n",
     "is_executing": false
    }
   }
  },
  {
   "cell_type": "code",
   "execution_count": 4,
   "outputs": [
    {
     "name": "stdout",
     "text": [
      "B(sp=A(long=10, model=0), yj=10)\n"
     ],
     "output_type": "stream"
    }
   ],
   "source": [
    "c = B(sp=a)\n",
    "print(c)\n",
    "\n"
   ],
   "metadata": {
    "collapsed": false,
    "pycharm": {
     "name": "#%%\n",
     "is_executing": false
    }
   }
  },
  {
   "cell_type": "code",
   "execution_count": 5,
   "outputs": [],
   "source": [
    "def nt2d(nt: NamedTuple) -> dict:\n",
    "    \"\"\"\n",
    "    NamedTuple to dict\n",
    "    Args:\n",
    "        nt: Namedtuple type object\n",
    "\n",
    "    Returns:\n",
    "\n",
    "    \"\"\"\n",
    "    res = dict()\n",
    "    od = nt._asdict()  # order dict\n",
    "    for k in od.keys():\n",
    "        if isinstance(od[k], tuple):\n",
    "            res[type(od[k]).__name__] = nt2d(od[k])\n",
    "        else:\n",
    "            res[k] = od[k]\n",
    "    return res\n",
    "\n"
   ],
   "metadata": {
    "collapsed": false,
    "pycharm": {
     "name": "#%%\n",
     "is_executing": false
    }
   }
  },
  {
   "cell_type": "code",
   "execution_count": 6,
   "outputs": [
    {
     "name": "stdout",
     "text": [
      "{'A': {'long': 10, 'model': 0}, 'yj': 10}\n"
     ],
     "output_type": "stream"
    }
   ],
   "source": [
    "r = nt2d(c)\n",
    "print(r)"
   ],
   "metadata": {
    "collapsed": false,
    "pycharm": {
     "name": "#%%\n",
     "is_executing": false
    }
   }
  },
  {
   "cell_type": "code",
   "execution_count": 8,
   "outputs": [],
   "source": [
    "from typing import NamedTuple\n",
    "import gxconfig\n",
    "\n",
    "class Data(NamedTuple):\n",
    "    root:str = \"/home/gawainx/data\"\n",
    "    chkp:str = \"chkp\"\n",
    "\n",
    "class Model(NamedTuple):\n",
    "    embd_dim:int = 768\n",
    "    hidden_dim:int = 5\n",
    "\n",
    "class Config(NamedTuple):\n",
    "    dataConfig:Data = Data()\n",
    "    modelConfig:Model = Model()\n",
    "\n",
    "cfg = Config()\n",
    "gxconfig.save_toml(cfg, 'config.toml')"
   ],
   "metadata": {
    "collapsed": false,
    "pycharm": {
     "name": "#%%\n",
     "is_executing": false
    }
   }
  },
  {
   "cell_type": "code",
   "execution_count": null,
   "outputs": [],
   "source": [
    "\n"
   ],
   "metadata": {
    "collapsed": false,
    "pycharm": {
     "name": "#%%\n"
    }
   }
  }
 ],
 "metadata": {
  "kernelspec": {
   "display_name": "Python 3",
   "language": "python",
   "name": "python3"
  },
  "language_info": {
   "codemirror_mode": {
    "name": "ipython",
    "version": 2
   },
   "file_extension": ".py",
   "mimetype": "text/x-python",
   "name": "python",
   "nbconvert_exporter": "python",
   "pygments_lexer": "ipython2",
   "version": "2.7.6"
  },
  "pycharm": {
   "stem_cell": {
    "cell_type": "raw",
    "source": [],
    "metadata": {
     "collapsed": false
    }
   }
  }
 },
 "nbformat": 4,
 "nbformat_minor": 0
}